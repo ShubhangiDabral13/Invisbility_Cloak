{
 "cells": [
  {
   "cell_type": "code",
   "execution_count": 1,
   "metadata": {},
   "outputs": [],
   "source": [
    "#Import libraries\n",
    "import numpy as np\n",
    "import cv2\n",
    "\n",
    "#To provide camera some time before the code is executed.\n",
    "import time \n"
   ]
  },
  {
   "cell_type": "code",
   "execution_count": null,
   "metadata": {},
   "outputs": [],
   "source": []
  },
  {
   "cell_type": "code",
   "execution_count": 2,
   "metadata": {},
   "outputs": [],
   "source": [
    "#creating object to capture video.0 is passed to select in built webcam.\n",
    "cap = cv2.VideoCapture(0)\n",
    "\n",
    "#2 second provided so that camera can adjust itself.\n",
    "time.sleep(2)\n",
    "\n",
    "#creating a variable which is being displayed when i have a cloak in the image.It will display the background image.\n",
    "backgound = 0\n",
    "\n",
    "#30 iteration is provided for the webcam to capture the background \n",
    "for i in range(30):\n",
    "    \n",
    "    ret,background = cap.read()\n",
    "\n",
    "\n",
    "#while loop will run till the camera is open    \n",
    "while(cap.isOpened()):\n",
    "    \n",
    "    ret,img = cap.read()\n",
    "    \n",
    "    #will break the loop when ret is false that is when no more image is being captured\n",
    "    if not ret:\n",
    "        break\n",
    "        \n",
    "        \n",
    "    hsv = cv2.cvtColor(img,cv2.COLOR_BGR2HSV)\n",
    "    \n",
    "    #hsv values\n",
    "    lower_red = ([0,120,70]) #120 means low saturation and 70 for low brightness\n",
    "    upper_red = ([10,255,255]) #255 means high saturation and 255 for high brightness      \n",
    "    \n",
    "    value = (35, 35)\n",
    "    \n",
    "    blurred = cv2.GaussianBlur(hsv, value,0)\n",
    "\n",
    "    # Defining lower range for red color detection.\n",
    "    lower_red = np.array([0,120,70])\n",
    "    upper_red = np.array([10,255,255])\n",
    "    mask1 = cv2.inRange(hsv,lower_red,upper_red)\n",
    "    \n",
    "    # Defining upper range for red color detection\n",
    "    lower_red = np.array([170,120,70])\n",
    "    upper_red = np.array([180,255,255])\n",
    "    mask2 = cv2.inRange(hsv,lower_red,upper_red)\n",
    "    \n",
    "    # Addition of the two masks to generate the final mask.\n",
    "    mask = mask1+mask2\n",
    "    mask = cv2.morphologyEx(mask, cv2.MORPH_OPEN, np.ones((5,5),np.uint8))\n",
    "\n",
    "    # Replacing pixels corresponding to cloak with the background pixels.\n",
    "    img[np.where(mask==255)] = background[np.where(mask==255)]\n",
    "    cv2.imshow('Display',img)\n",
    "    k = cv2.waitKey(10)\n",
    "    if k == 27:\n",
    "        break\n",
    "    \n",
    "    \n",
    "    "
   ]
  }
 ],
 "metadata": {
  "kernelspec": {
   "display_name": "Python 3",
   "language": "python",
   "name": "python3"
  },
  "language_info": {
   "codemirror_mode": {
    "name": "ipython",
    "version": 3
   },
   "file_extension": ".py",
   "mimetype": "text/x-python",
   "name": "python",
   "nbconvert_exporter": "python",
   "pygments_lexer": "ipython3",
   "version": "3.7.1"
  }
 },
 "nbformat": 4,
 "nbformat_minor": 2
}
